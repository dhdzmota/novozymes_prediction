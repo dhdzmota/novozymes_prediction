{
 "cells": [
  {
   "cell_type": "code",
   "execution_count": 1,
   "id": "fa7323ac",
   "metadata": {
    "ExecuteTime": {
     "end_time": "2022-11-24T04:31:15.063725Z",
     "start_time": "2022-11-24T04:30:49.471297Z"
    }
   },
   "outputs": [
    {
     "name": "stdout",
     "output_type": "stream",
     "text": [
      "INFO: Pandarallel will run on 6 workers.\n",
      "INFO: Pandarallel will use standard multiprocessing data transfer (pipe) to transfer data between the main process and workers.\n"
     ]
    }
   ],
   "source": [
    "from pandarallel import pandarallel\n",
    "\n",
    "# Initialization\n",
    "pandarallel.initialize(use_memory_fs=False)"
   ]
  },
  {
   "cell_type": "code",
   "execution_count": 2,
   "id": "0a2983a0",
   "metadata": {
    "ExecuteTime": {
     "end_time": "2022-11-24T04:32:09.157598Z",
     "start_time": "2022-11-24T04:31:50.169266Z"
    }
   },
   "outputs": [],
   "source": [
    "import pandas as pd\n",
    "import networkx as nx\n",
    "import matplotlib.pyplot as plt\n",
    "import numpy as np\n",
    "\n",
    "from ast import literal_eval"
   ]
  },
  {
   "cell_type": "code",
   "execution_count": 3,
   "id": "3ce52ba1",
   "metadata": {
    "ExecuteTime": {
     "end_time": "2022-11-24T04:32:11.265420Z",
     "start_time": "2022-11-24T04:32:09.241500Z"
    }
   },
   "outputs": [],
   "source": [
    "protein_relations = pd.read_csv('./similar_protein_sequences.csv')\n",
    "protein_relations.dropna(inplace=True)"
   ]
  },
  {
   "cell_type": "code",
   "execution_count": 4,
   "id": "8cf07c4c",
   "metadata": {
    "ExecuteTime": {
     "end_time": "2022-11-24T04:32:16.372163Z",
     "start_time": "2022-11-24T04:32:11.633546Z"
    }
   },
   "outputs": [
    {
     "name": "stderr",
     "output_type": "stream",
     "text": [
      "/mnt/d/Users/dhdzm/Documents/projects/Novozymes/venv/lib/python3.8/site-packages/pandarallel/data_types/series.py:16: FutureWarning: The behavior of `series[i:j]` with an integer-dtype index is deprecated. In a future version, this will be treated as *label-based* indexing, consistent with e.g. `series[i]` lookups. To retain the old behavior, use `series.iloc[i:j]`. To get the future behavior, use `series.loc[i:j]`.\n",
      "  yield data[chunk_]\n"
     ]
    }
   ],
   "source": [
    "protein_relations['protein_lists'] = protein_relations.protein_sequence.parallel_apply(lambda x: literal_eval(x))"
   ]
  },
  {
   "cell_type": "code",
   "execution_count": 5,
   "id": "f06afea1",
   "metadata": {
    "ExecuteTime": {
     "end_time": "2022-11-24T04:32:16.872089Z",
     "start_time": "2022-11-24T04:32:16.531798Z"
    }
   },
   "outputs": [],
   "source": [
    "protein_lists = protein_relations.drop('protein_sequence', axis=1)\n",
    "protein_lists_exploded = protein_lists.set_index('seq_id').protein_lists.explode().reset_index()"
   ]
  },
  {
   "cell_type": "code",
   "execution_count": 6,
   "id": "cfe5fc4e",
   "metadata": {
    "ExecuteTime": {
     "end_time": "2022-11-24T04:32:17.214608Z",
     "start_time": "2022-11-24T04:32:17.128722Z"
    }
   },
   "outputs": [
    {
     "data": {
      "text/html": [
       "<div>\n",
       "<style scoped>\n",
       "    .dataframe tbody tr th:only-of-type {\n",
       "        vertical-align: middle;\n",
       "    }\n",
       "\n",
       "    .dataframe tbody tr th {\n",
       "        vertical-align: top;\n",
       "    }\n",
       "\n",
       "    .dataframe thead th {\n",
       "        text-align: right;\n",
       "    }\n",
       "</style>\n",
       "<table border=\"1\" class=\"dataframe\">\n",
       "  <thead>\n",
       "    <tr style=\"text-align: right;\">\n",
       "      <th></th>\n",
       "      <th>seq_id</th>\n",
       "      <th>protein_lists</th>\n",
       "    </tr>\n",
       "  </thead>\n",
       "  <tbody>\n",
       "    <tr>\n",
       "      <th>0</th>\n",
       "      <td>0</td>\n",
       "      <td>1SR8</td>\n",
       "    </tr>\n",
       "    <tr>\n",
       "      <th>1</th>\n",
       "      <td>1</td>\n",
       "      <td>1WI9</td>\n",
       "    </tr>\n",
       "    <tr>\n",
       "      <th>2</th>\n",
       "      <td>2</td>\n",
       "      <td>6JZB</td>\n",
       "    </tr>\n",
       "    <tr>\n",
       "      <th>3</th>\n",
       "      <td>2</td>\n",
       "      <td>6PSI</td>\n",
       "    </tr>\n",
       "    <tr>\n",
       "      <th>4</th>\n",
       "      <td>2</td>\n",
       "      <td>4J80</td>\n",
       "    </tr>\n",
       "  </tbody>\n",
       "</table>\n",
       "</div>"
      ],
      "text/plain": [
       "   seq_id protein_lists\n",
       "0       0          1SR8\n",
       "1       1          1WI9\n",
       "2       2          6JZB\n",
       "3       2          6PSI\n",
       "4       2          4J80"
      ]
     },
     "execution_count": 6,
     "metadata": {},
     "output_type": "execute_result"
    }
   ],
   "source": [
    "protein_lists_exploded.head()"
   ]
  },
  {
   "cell_type": "code",
   "execution_count": 7,
   "id": "1a057010",
   "metadata": {
    "ExecuteTime": {
     "end_time": "2022-11-24T04:32:17.441226Z",
     "start_time": "2022-11-24T04:32:17.436219Z"
    }
   },
   "outputs": [],
   "source": [
    "from networkx.algorithms import bipartite"
   ]
  },
  {
   "cell_type": "code",
   "execution_count": 8,
   "id": "1b3d4225",
   "metadata": {
    "ExecuteTime": {
     "end_time": "2022-11-24T04:32:18.267255Z",
     "start_time": "2022-11-24T04:32:17.680068Z"
    }
   },
   "outputs": [],
   "source": [
    "seq_id_nodes = list(protein_lists_exploded.seq_id.unique())\n",
    "protein_nodes = list(protein_lists_exploded.protein_lists.unique())"
   ]
  },
  {
   "cell_type": "code",
   "execution_count": 9,
   "id": "b22d57c6",
   "metadata": {
    "ExecuteTime": {
     "end_time": "2022-11-24T04:32:20.559273Z",
     "start_time": "2022-11-24T04:32:18.844564Z"
    }
   },
   "outputs": [],
   "source": [
    "edges = list(protein_lists_exploded.itertuples(index=False, name=None))"
   ]
  },
  {
   "cell_type": "code",
   "execution_count": 10,
   "id": "84688d4f",
   "metadata": {
    "ExecuteTime": {
     "end_time": "2022-11-24T04:32:38.731205Z",
     "start_time": "2022-11-24T04:32:38.724956Z"
    }
   },
   "outputs": [],
   "source": [
    "G = nx.Graph()"
   ]
  },
  {
   "cell_type": "code",
   "execution_count": 11,
   "id": "b1a08fc0",
   "metadata": {
    "ExecuteTime": {
     "end_time": "2022-11-24T04:33:08.811538Z",
     "start_time": "2022-11-24T04:32:57.101387Z"
    }
   },
   "outputs": [],
   "source": [
    "G.add_nodes_from(seq_id_nodes, bipartite=0)\n",
    "G.add_nodes_from(protein_nodes, bipartite=1)\n",
    "G.add_edges_from(edges)\n"
   ]
  },
  {
   "cell_type": "code",
   "execution_count": 12,
   "id": "aa82b40e",
   "metadata": {
    "ExecuteTime": {
     "end_time": "2022-11-24T04:33:28.046884Z",
     "start_time": "2022-11-24T04:33:27.926979Z"
    }
   },
   "outputs": [],
   "source": [
    "degrees = bipartite.degrees(G, nodes=seq_id_nodes)"
   ]
  },
  {
   "cell_type": "code",
   "execution_count": 13,
   "id": "3b6dc78f",
   "metadata": {
    "ExecuteTime": {
     "end_time": "2022-11-24T04:33:38.091271Z",
     "start_time": "2022-11-24T04:33:37.915943Z"
    }
   },
   "outputs": [],
   "source": [
    "degree_dict = dict(degrees[0])\n",
    "#degree_dict = dict(degrees[1])"
   ]
  },
  {
   "cell_type": "code",
   "execution_count": 16,
   "id": "efec9b6e",
   "metadata": {
    "ExecuteTime": {
     "end_time": "2022-11-24T04:34:14.953361Z",
     "start_time": "2022-11-24T04:34:14.869199Z"
    }
   },
   "outputs": [],
   "source": [
    "degree_df = pd.DataFrame(\n",
    "    pd.Series(degree_dict)\n",
    ")"
   ]
  },
  {
   "cell_type": "code",
   "execution_count": 17,
   "id": "f611568c",
   "metadata": {
    "ExecuteTime": {
     "end_time": "2022-11-24T04:34:22.028556Z",
     "start_time": "2022-11-24T04:34:21.695783Z"
    }
   },
   "outputs": [
    {
     "data": {
      "text/html": [
       "<div>\n",
       "<style scoped>\n",
       "    .dataframe tbody tr th:only-of-type {\n",
       "        vertical-align: middle;\n",
       "    }\n",
       "\n",
       "    .dataframe tbody tr th {\n",
       "        vertical-align: top;\n",
       "    }\n",
       "\n",
       "    .dataframe thead th {\n",
       "        text-align: right;\n",
       "    }\n",
       "</style>\n",
       "<table border=\"1\" class=\"dataframe\">\n",
       "  <thead>\n",
       "    <tr style=\"text-align: right;\">\n",
       "      <th></th>\n",
       "      <th>0</th>\n",
       "    </tr>\n",
       "  </thead>\n",
       "  <tbody>\n",
       "    <tr>\n",
       "      <th>6K42</th>\n",
       "      <td>930</td>\n",
       "    </tr>\n",
       "    <tr>\n",
       "      <th>7EVY</th>\n",
       "      <td>928</td>\n",
       "    </tr>\n",
       "    <tr>\n",
       "      <th>7EVZ</th>\n",
       "      <td>928</td>\n",
       "    </tr>\n",
       "    <tr>\n",
       "      <th>7EW0</th>\n",
       "      <td>928</td>\n",
       "    </tr>\n",
       "    <tr>\n",
       "      <th>7EW7</th>\n",
       "      <td>928</td>\n",
       "    </tr>\n",
       "    <tr>\n",
       "      <th>6VMS</th>\n",
       "      <td>927</td>\n",
       "    </tr>\n",
       "    <tr>\n",
       "      <th>6K41</th>\n",
       "      <td>924</td>\n",
       "    </tr>\n",
       "    <tr>\n",
       "      <th>7S0G</th>\n",
       "      <td>923</td>\n",
       "    </tr>\n",
       "    <tr>\n",
       "      <th>7S0F</th>\n",
       "      <td>923</td>\n",
       "    </tr>\n",
       "    <tr>\n",
       "      <th>8DCR</th>\n",
       "      <td>915</td>\n",
       "    </tr>\n",
       "    <tr>\n",
       "      <th>7JJO</th>\n",
       "      <td>915</td>\n",
       "    </tr>\n",
       "    <tr>\n",
       "      <th>8DCS</th>\n",
       "      <td>915</td>\n",
       "    </tr>\n",
       "    <tr>\n",
       "      <th>3SN6</th>\n",
       "      <td>915</td>\n",
       "    </tr>\n",
       "    <tr>\n",
       "      <th>6NI3</th>\n",
       "      <td>915</td>\n",
       "    </tr>\n",
       "    <tr>\n",
       "      <th>7JOZ</th>\n",
       "      <td>915</td>\n",
       "    </tr>\n",
       "    <tr>\n",
       "      <th>6ZME</th>\n",
       "      <td>842</td>\n",
       "    </tr>\n",
       "    <tr>\n",
       "      <th>6HCF</th>\n",
       "      <td>826</td>\n",
       "    </tr>\n",
       "    <tr>\n",
       "      <th>7O80</th>\n",
       "      <td>824</td>\n",
       "    </tr>\n",
       "    <tr>\n",
       "      <th>6HCM</th>\n",
       "      <td>823</td>\n",
       "    </tr>\n",
       "    <tr>\n",
       "      <th>5LZV</th>\n",
       "      <td>816</td>\n",
       "    </tr>\n",
       "  </tbody>\n",
       "</table>\n",
       "</div>"
      ],
      "text/plain": [
       "        0\n",
       "6K42  930\n",
       "7EVY  928\n",
       "7EVZ  928\n",
       "7EW0  928\n",
       "7EW7  928\n",
       "6VMS  927\n",
       "6K41  924\n",
       "7S0G  923\n",
       "7S0F  923\n",
       "8DCR  915\n",
       "7JJO  915\n",
       "8DCS  915\n",
       "3SN6  915\n",
       "6NI3  915\n",
       "7JOZ  915\n",
       "6ZME  842\n",
       "6HCF  826\n",
       "7O80  824\n",
       "6HCM  823\n",
       "5LZV  816"
      ]
     },
     "execution_count": 17,
     "metadata": {},
     "output_type": "execute_result"
    }
   ],
   "source": [
    "degree_df.sort_values(0, ascending=False).head(20)"
   ]
  },
  {
   "cell_type": "code",
   "execution_count": 18,
   "id": "9b0eb5b9",
   "metadata": {
    "ExecuteTime": {
     "end_time": "2022-11-24T04:34:31.213465Z",
     "start_time": "2022-11-24T04:34:29.340240Z"
    }
   },
   "outputs": [],
   "source": [
    "connected_components = sorted(nx.connected_components(G), key=len, reverse=True)"
   ]
  },
  {
   "cell_type": "code",
   "execution_count": 19,
   "id": "23e38e4d",
   "metadata": {
    "ExecuteTime": {
     "end_time": "2022-11-24T04:34:53.426320Z",
     "start_time": "2022-11-24T04:34:49.885547Z"
    }
   },
   "outputs": [
    {
     "data": {
      "text/plain": [
       "<matplotlib.collections.LineCollection at 0x7f409f3aeeb0>"
      ]
     },
     "execution_count": 19,
     "metadata": {},
     "output_type": "execute_result"
    },
    {
     "data": {
      "image/png": "[encoded data removed]",
      "text/plain": [
       "<Figure size 800x800 with 1 Axes>"
      ]
     },
     "metadata": {},
     "output_type": "display_data"
    }
   ],
   "source": [
    "subgraph = G.subgraph(connected_components[300])\n",
    "\n",
    "fig = plt.figure(\"Degree of a random graph\", figsize=(8, 8))\n",
    "\n",
    "axgrid = fig.add_gridspec(5, 4)\n",
    "ax0 = fig.add_subplot(axgrid[0:3, :])\n",
    "\n",
    "pos = nx.spring_layout(subgraph, seed=10396953)\n",
    "nx.draw_networkx_nodes(subgraph, pos, ax=ax0, node_size=20)\n",
    "nx.draw_networkx_edges(subgraph, pos, ax=ax0, alpha=0.4)"
   ]
  },
  {
   "cell_type": "code",
   "execution_count": 20,
   "id": "f7c69321",
   "metadata": {
    "ExecuteTime": {
     "end_time": "2022-11-24T04:35:01.147692Z",
     "start_time": "2022-11-24T04:35:01.130728Z"
    }
   },
   "outputs": [
    {
     "data": {
      "text/plain": [
       "{15349,\n",
       " 23237,\n",
       " 23270,\n",
       " 23283,\n",
       " '2NPI',\n",
       " 4278,\n",
       " '4C0B',\n",
       " '4C0H',\n",
       " '4OHV',\n",
       " '4OHW',\n",
       " '4OHX',\n",
       " '4OHY',\n",
       " '4OHZ',\n",
       " '4OI0',\n",
       " '4OI1',\n",
       " '4OI2',\n",
       " '4OI4',\n",
       " '6OF2',\n",
       " '6OF3',\n",
       " '6OF4',\n",
       " 7122,\n",
       " 8179}"
      ]
     },
     "execution_count": 20,
     "metadata": {},
     "output_type": "execute_result"
    }
   ],
   "source": [
    "connected_components[300]"
   ]
  },
  {
   "cell_type": "code",
   "execution_count": 21,
   "id": "d1b22479",
   "metadata": {
    "ExecuteTime": {
     "end_time": "2022-11-24T04:35:12.416349Z",
     "start_time": "2022-11-24T04:35:12.407360Z"
    }
   },
   "outputs": [],
   "source": [
    "c = bipartite.color(subgraph)\n",
    "nx.set_node_attributes(subgraph, c, \"bipartite\")\n"
   ]
  },
  {
   "cell_type": "code",
   "execution_count": 22,
   "id": "da74e6eb",
   "metadata": {
    "ExecuteTime": {
     "end_time": "2022-11-24T04:35:17.201570Z",
     "start_time": "2022-11-24T04:35:17.193401Z"
    }
   },
   "outputs": [
    {
     "data": {
      "text/plain": [
       "NodeView(('4OHX', '2NPI', '4OI4', '4OHZ', '4OI2', 4278, '4OHW', '6OF2', 23237, '4C0B', '4OI1', 7122, '4OHY', '6OF3', '6OF4', '4OI0', '4C0H', 23270, 23283, 8179, 15349, '4OHV'))"
      ]
     },
     "execution_count": 22,
     "metadata": {},
     "output_type": "execute_result"
    }
   ],
   "source": [
    "subgraph.nodes"
   ]
  },
  {
   "cell_type": "code",
   "execution_count": 23,
   "id": "7a43457d",
   "metadata": {
    "ExecuteTime": {
     "end_time": "2022-11-24T04:35:33.502728Z",
     "start_time": "2022-11-24T04:35:33.495376Z"
    }
   },
   "outputs": [],
   "source": [
    "titles, protein_seq = nx.bipartite.sets(subgraph)"
   ]
  },
  {
   "cell_type": "code",
   "execution_count": 25,
   "id": "c2eccde0",
   "metadata": {
    "ExecuteTime": {
     "end_time": "2022-11-24T04:36:33.383019Z",
     "start_time": "2022-11-24T04:36:33.375955Z"
    }
   },
   "outputs": [
    {
     "name": "stderr",
     "output_type": "stream",
     "text": [
      "/tmp/ipykernel_32324/4019060206.py:1: FutureWarning: biadjacency_matrix will return a scipy.sparse array instead of a matrix in NetworkX 3.0\n",
      "  adj_matrix = nx.bipartite.biadjacency_matrix(\n"
     ]
    }
   ],
   "source": [
    "adj_matrix = nx.bipartite.biadjacency_matrix(\n",
    "    subgraph, row_order=list(protein_seq)\n",
    ")"
   ]
  },
  {
   "cell_type": "code",
   "execution_count": 30,
   "id": "3f42c2de",
   "metadata": {
    "ExecuteTime": {
     "end_time": "2022-11-24T04:43:29.976760Z",
     "start_time": "2022-11-24T04:43:29.057696Z"
    }
   },
   "outputs": [
    {
     "data": {
      "text/plain": [
       "<AxesSubplot: >"
      ]
     },
     "execution_count": 30,
     "metadata": {},
     "output_type": "execute_result"
    },
    {
     "data": {
      "image/png": "[encoded data removed]",
      "text/plain": [
       "<Figure size 640x480 with 2 Axes>"
      ]
     },
     "metadata": {},
     "output_type": "display_data"
    }
   ],
   "source": [
    "sns.heatmap(adj_matrix.toarray())"
   ]
  },
  {
   "cell_type": "code",
   "execution_count": 29,
   "id": "ce0061d0",
   "metadata": {
    "ExecuteTime": {
     "end_time": "2022-11-24T04:43:06.453466Z",
     "start_time": "2022-11-24T04:43:01.881910Z"
    }
   },
   "outputs": [],
   "source": [
    "import seaborn as sns"
   ]
  },
  {
   "cell_type": "code",
   "execution_count": 33,
   "id": "38b5c93c",
   "metadata": {
    "ExecuteTime": {
     "end_time": "2022-11-24T04:46:06.144888Z",
     "start_time": "2022-11-24T04:46:06.138073Z"
    }
   },
   "outputs": [],
   "source": [
    "projected_g = nx.bipartite.projected_graph(\n",
    "    subgraph, list(protein_seq)\n",
    ")"
   ]
  },
  {
   "cell_type": "code",
   "execution_count": 34,
   "id": "e9b4ffcb",
   "metadata": {
    "ExecuteTime": {
     "end_time": "2022-11-24T04:46:28.996488Z",
     "start_time": "2022-11-24T04:46:28.761872Z"
    },
    "scrolled": true
   },
   "outputs": [
    {
     "data": {
      "text/plain": [
       "<matplotlib.collections.LineCollection at 0x7f407657e5b0>"
      ]
     },
     "execution_count": 34,
     "metadata": {},
     "output_type": "execute_result"
    },
    {
     "data": {
      "image/png": "[encoded data removed]",
      "text/plain": [
       "<Figure size 800x800 with 1 Axes>"
      ]
     },
     "metadata": {},
     "output_type": "display_data"
    }
   ],
   "source": [
    "\n",
    "fig = plt.figure(\"Degree of a random graph\", figsize=(8, 8))\n",
    "\n",
    "axgrid = fig.add_gridspec(5, 4)\n",
    "ax0 = fig.add_subplot(axgrid[0:3, :])\n",
    "\n",
    "pos = nx.spring_layout(projected_g, seed=10396953)\n",
    "nx.draw_networkx_nodes(projected_g, pos, ax=ax0, node_size=20)\n",
    "nx.draw_networkx_edges(projected_g, pos, ax=ax0, alpha=0.4)"
   ]
  },
  {
   "cell_type": "code",
   "execution_count": null,
   "id": "fdf8ccbd",
   "metadata": {
    "ExecuteTime": {
     "start_time": "2022-11-24T05:36:40.227Z"
    }
   },
   "outputs": [],
   "source": [
    "biggest_subgraph = G.subgraph(connected_components[0])\n",
    "titles, protein_seq = nx.bipartite.sets(biggest_subgraph)\n",
    "projected_g = nx.bipartite.projected_graph(\n",
    "    biggest_subgraph, list(protein_seq)\n",
    ")\n",
    "\n",
    "fig = plt.figure(\"Degree of a random graph\", figsize=(8, 8))\n",
    "\n",
    "axgrid = fig.add_gridspec(5, 4)\n",
    "ax0 = fig.add_subplot(axgrid[0:3, :])\n",
    "\n",
    "pos = nx.spring_layout(projected_g, seed=10396953)\n",
    "nx.draw_networkx_nodes(projected_g, pos, ax=ax0, node_size=20)\n",
    "nx.draw_networkx_edges(projected_g, pos, ax=ax0, alpha=0.4)"
   ]
  },
  {
   "cell_type": "code",
   "execution_count": null,
   "id": "fbadae7b",
   "metadata": {},
   "outputs": [],
   "source": []
  }
 ],
 "metadata": {
  "hide_input": false,
  "kernelspec": {
   "display_name": "Python 3 (ipykernel)",
   "language": "python",
   "name": "python3"
  },
  "language_info": {
   "codemirror_mode": {
    "name": "ipython",
    "version": 3
   },
   "file_extension": ".py",
   "mimetype": "text/x-python",
   "name": "python",
   "nbconvert_exporter": "python",
   "pygments_lexer": "ipython3",
   "version": "3.8.10"
  },
  "toc": {
   "base_numbering": 1,
   "nav_menu": {},
   "number_sections": true,
   "sideBar": true,
   "skip_h1_title": false,
   "title_cell": "Table of Contents",
   "title_sidebar": "Contents",
   "toc_cell": false,
   "toc_position": {},
   "toc_section_display": true,
   "toc_window_display": false
  },
  "varInspector": {
   "cols": {
    "lenName": 16,
    "lenType": 16,
    "lenVar": 40
   },
   "kernels_config": {
    "python": {
     "delete_cmd_postfix": "",
     "delete_cmd_prefix": "del ",
     "library": "var_list.py",
     "varRefreshCmd": "print(var_dic_list())"
    },
    "r": {
     "delete_cmd_postfix": ") ",
     "delete_cmd_prefix": "rm(",
     "library": "var_list.r",
     "varRefreshCmd": "cat(var_dic_list()) "
    }
   },
   "types_to_exclude": [
    "module",
    "function",
    "builtin_function_or_method",
    "instance",
    "_Feature"
   ],
   "window_display": false
  }
 },
 "nbformat": 4,
 "nbformat_minor": 5
}
